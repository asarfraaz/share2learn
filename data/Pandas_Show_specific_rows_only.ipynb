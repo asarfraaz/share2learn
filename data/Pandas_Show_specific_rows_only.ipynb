{
 "cells": [
  {
   "cell_type": "markdown",
   "id": "041b5a14",
   "metadata": {},
   "source": [
    "# Pandas : Show specific rows only\n",
    "\n",
    "One of the coolest tricks in Python when you want to search multiple conditions is the clever use of `in` operator\n",
    "\n",
    "Let's say you want to check if the user agrees with your proposal or not. May be you ask for the user's opinion ( or may be read it from the frontend or a file ) and write some code like this\n"
   ]
  },
  {
   "cell_type": "code",
   "execution_count": 1,
   "id": "edb0568e",
   "metadata": {},
   "outputs": [
    {
     "name": "stdout",
     "output_type": "stream",
     "text": [
      "Will you marry me? Nods\n",
      "Hurray !!!\n"
     ]
    }
   ],
   "source": [
    "opinion = input(\"Will you marry me? \")\n",
    "answers = [ \"Yes\", \"Yeah\", \"Nods\"]\n",
    "print(\"Hurray !!!\" if opinion in answers else \"Try again later ...\")"
   ]
  },
  {
   "cell_type": "markdown",
   "id": "b785a51c",
   "metadata": {},
   "source": [
    "All that is good with simple strings or integers but how can we do something similar in a Pandas DataFrame?"
   ]
  },
  {
   "cell_type": "markdown",
   "id": "64c9aa78",
   "metadata": {},
   "source": [
    "## Problem Statement\n",
    "\n",
    "Consider this dataset that contains details about when a particular student submitted their exercises in my Course\n",
    "\n",
    "The values in the table contain the date a particular student submitted any given exercise"
   ]
  },
  {
   "cell_type": "code",
   "execution_count": 2,
   "id": "738f92cf",
   "metadata": {},
   "outputs": [],
   "source": [
    "import pandas as pd"
   ]
  },
  {
   "cell_type": "code",
   "execution_count": 3,
   "id": "df46a09a",
   "metadata": {},
   "outputs": [
    {
     "data": {
      "text/html": [
       "<div>\n",
       "<style scoped>\n",
       "    .dataframe tbody tr th:only-of-type {\n",
       "        vertical-align: middle;\n",
       "    }\n",
       "\n",
       "    .dataframe tbody tr th {\n",
       "        vertical-align: top;\n",
       "    }\n",
       "\n",
       "    .dataframe thead th {\n",
       "        text-align: right;\n",
       "    }\n",
       "</style>\n",
       "<table border=\"1\" class=\"dataframe\">\n",
       "  <thead>\n",
       "    <tr style=\"text-align: right;\">\n",
       "      <th></th>\n",
       "      <th>Ex01_Date</th>\n",
       "      <th>Ex02_Date</th>\n",
       "      <th>Ex03_Date</th>\n",
       "      <th>Ex04_Date</th>\n",
       "    </tr>\n",
       "    <tr>\n",
       "      <th>Name</th>\n",
       "      <th></th>\n",
       "      <th></th>\n",
       "      <th></th>\n",
       "      <th></th>\n",
       "    </tr>\n",
       "  </thead>\n",
       "  <tbody>\n",
       "    <tr>\n",
       "      <th>Ajay</th>\n",
       "      <td>12-Jan-2023</td>\n",
       "      <td>14-Jan-2023</td>\n",
       "      <td>18-Jan-2023</td>\n",
       "      <td>16-Jan-2023</td>\n",
       "    </tr>\n",
       "    <tr>\n",
       "      <th>Chetan</th>\n",
       "      <td>17-Jan-2023</td>\n",
       "      <td>18-Jan-2023</td>\n",
       "      <td>19-Jan-2023</td>\n",
       "      <td>NaN</td>\n",
       "    </tr>\n",
       "    <tr>\n",
       "      <th>Girish</th>\n",
       "      <td>17-Jan-2023</td>\n",
       "      <td>NaN</td>\n",
       "      <td>15-Jan-2023</td>\n",
       "      <td>NaN</td>\n",
       "    </tr>\n",
       "    <tr>\n",
       "      <th>Mohan</th>\n",
       "      <td>19-Jan-2023</td>\n",
       "      <td>NaN</td>\n",
       "      <td>NaN</td>\n",
       "      <td>NaN</td>\n",
       "    </tr>\n",
       "    <tr>\n",
       "      <th>Vishal</th>\n",
       "      <td>14-Jan-2023</td>\n",
       "      <td>15-Jan-2023</td>\n",
       "      <td>17-Jan-2023</td>\n",
       "      <td>18-Jan-2023</td>\n",
       "    </tr>\n",
       "  </tbody>\n",
       "</table>\n",
       "</div>"
      ],
      "text/plain": [
       "          Ex01_Date    Ex02_Date    Ex03_Date    Ex04_Date\n",
       "Name                                                      \n",
       "Ajay    12-Jan-2023  14-Jan-2023  18-Jan-2023  16-Jan-2023\n",
       "Chetan  17-Jan-2023  18-Jan-2023  19-Jan-2023          NaN\n",
       "Girish  17-Jan-2023          NaN  15-Jan-2023          NaN\n",
       "Mohan   19-Jan-2023          NaN          NaN          NaN\n",
       "Vishal  14-Jan-2023  15-Jan-2023  17-Jan-2023  18-Jan-2023"
      ]
     },
     "execution_count": 3,
     "metadata": {},
     "output_type": "execute_result"
    }
   ],
   "source": [
    "df = pd.read_csv('exercises_table.csv')\n",
    "df.set_index('Name', inplace=True)\n",
    "df"
   ]
  },
  {
   "cell_type": "markdown",
   "id": "3a307172",
   "metadata": {},
   "source": [
    "From the above information, how can we find out which students submitted which exercises on 18-Jan-2023 and 19-Jan-2023 ?\n"
   ]
  },
  {
   "cell_type": "markdown",
   "id": "0bd61eda",
   "metadata": {},
   "source": [
    "### Fixing the Row index name\n",
    "\n",
    "Before we jump to the solution let's first fix the Row index label name of the DataFrame. One neat trick ( more of a hack though ) to remove the name for the Row index called as \"Name\" is to set it's name attribute to None"
   ]
  },
  {
   "cell_type": "code",
   "execution_count": 4,
   "id": "7fa79042",
   "metadata": {},
   "outputs": [
    {
     "data": {
      "text/html": [
       "<div>\n",
       "<style scoped>\n",
       "    .dataframe tbody tr th:only-of-type {\n",
       "        vertical-align: middle;\n",
       "    }\n",
       "\n",
       "    .dataframe tbody tr th {\n",
       "        vertical-align: top;\n",
       "    }\n",
       "\n",
       "    .dataframe thead th {\n",
       "        text-align: right;\n",
       "    }\n",
       "</style>\n",
       "<table border=\"1\" class=\"dataframe\">\n",
       "  <thead>\n",
       "    <tr style=\"text-align: right;\">\n",
       "      <th></th>\n",
       "      <th>Ex01_Date</th>\n",
       "      <th>Ex02_Date</th>\n",
       "      <th>Ex03_Date</th>\n",
       "      <th>Ex04_Date</th>\n",
       "    </tr>\n",
       "  </thead>\n",
       "  <tbody>\n",
       "    <tr>\n",
       "      <th>Ajay</th>\n",
       "      <td>12-Jan-2023</td>\n",
       "      <td>14-Jan-2023</td>\n",
       "      <td>18-Jan-2023</td>\n",
       "      <td>16-Jan-2023</td>\n",
       "    </tr>\n",
       "    <tr>\n",
       "      <th>Chetan</th>\n",
       "      <td>17-Jan-2023</td>\n",
       "      <td>18-Jan-2023</td>\n",
       "      <td>19-Jan-2023</td>\n",
       "      <td>NaN</td>\n",
       "    </tr>\n",
       "    <tr>\n",
       "      <th>Girish</th>\n",
       "      <td>17-Jan-2023</td>\n",
       "      <td>NaN</td>\n",
       "      <td>15-Jan-2023</td>\n",
       "      <td>NaN</td>\n",
       "    </tr>\n",
       "    <tr>\n",
       "      <th>Mohan</th>\n",
       "      <td>19-Jan-2023</td>\n",
       "      <td>NaN</td>\n",
       "      <td>NaN</td>\n",
       "      <td>NaN</td>\n",
       "    </tr>\n",
       "    <tr>\n",
       "      <th>Vishal</th>\n",
       "      <td>14-Jan-2023</td>\n",
       "      <td>15-Jan-2023</td>\n",
       "      <td>17-Jan-2023</td>\n",
       "      <td>18-Jan-2023</td>\n",
       "    </tr>\n",
       "  </tbody>\n",
       "</table>\n",
       "</div>"
      ],
      "text/plain": [
       "          Ex01_Date    Ex02_Date    Ex03_Date    Ex04_Date\n",
       "Ajay    12-Jan-2023  14-Jan-2023  18-Jan-2023  16-Jan-2023\n",
       "Chetan  17-Jan-2023  18-Jan-2023  19-Jan-2023          NaN\n",
       "Girish  17-Jan-2023          NaN  15-Jan-2023          NaN\n",
       "Mohan   19-Jan-2023          NaN          NaN          NaN\n",
       "Vishal  14-Jan-2023  15-Jan-2023  17-Jan-2023  18-Jan-2023"
      ]
     },
     "execution_count": 4,
     "metadata": {},
     "output_type": "execute_result"
    }
   ],
   "source": [
    "df.index.name = None\n",
    "df"
   ]
  },
  {
   "cell_type": "markdown",
   "id": "7b7a6550",
   "metadata": {},
   "source": [
    "Now that the table is in a better shape, let's move on to the solution"
   ]
  },
  {
   "cell_type": "markdown",
   "id": "d6b6df37",
   "metadata": {},
   "source": [
    "\n",
    "## Solution\n",
    "\n",
    "Let's start by defining the required dates in a list `imp_dates`, similar to the `answers` variable we used earlier\n",
    "\n"
   ]
  },
  {
   "cell_type": "code",
   "execution_count": 5,
   "id": "dad7e033",
   "metadata": {},
   "outputs": [],
   "source": [
    "imp_dates = ['18-Jan-2023', '19-Jan-2023']"
   ]
  },
  {
   "cell_type": "markdown",
   "id": "cbf44fe2",
   "metadata": {},
   "source": [
    "Now, we need to check which of the values in `df` contain any of the dates present in `imp_dates`. This can be achieved using `isin` method of DataFrame. This does an elementwise comparison as was done in the earlier Python code at the beginning of this post. And all elementwise operations can be run parallelly, so this should be a fast operation.\n",
    "\n",
    "The `isin` method returns a boolean DataFrame with cells that contain any of our values of interest ( any date present in `imp_dates` ) having `True` and the rest as `False`"
   ]
  },
  {
   "cell_type": "code",
   "execution_count": 6,
   "id": "9e620502",
   "metadata": {},
   "outputs": [
    {
     "data": {
      "text/html": [
       "<div>\n",
       "<style scoped>\n",
       "    .dataframe tbody tr th:only-of-type {\n",
       "        vertical-align: middle;\n",
       "    }\n",
       "\n",
       "    .dataframe tbody tr th {\n",
       "        vertical-align: top;\n",
       "    }\n",
       "\n",
       "    .dataframe thead th {\n",
       "        text-align: right;\n",
       "    }\n",
       "</style>\n",
       "<table border=\"1\" class=\"dataframe\">\n",
       "  <thead>\n",
       "    <tr style=\"text-align: right;\">\n",
       "      <th></th>\n",
       "      <th>Ex01_Date</th>\n",
       "      <th>Ex02_Date</th>\n",
       "      <th>Ex03_Date</th>\n",
       "      <th>Ex04_Date</th>\n",
       "    </tr>\n",
       "  </thead>\n",
       "  <tbody>\n",
       "    <tr>\n",
       "      <th>Ajay</th>\n",
       "      <td>False</td>\n",
       "      <td>False</td>\n",
       "      <td>True</td>\n",
       "      <td>False</td>\n",
       "    </tr>\n",
       "    <tr>\n",
       "      <th>Chetan</th>\n",
       "      <td>False</td>\n",
       "      <td>True</td>\n",
       "      <td>True</td>\n",
       "      <td>False</td>\n",
       "    </tr>\n",
       "    <tr>\n",
       "      <th>Girish</th>\n",
       "      <td>False</td>\n",
       "      <td>False</td>\n",
       "      <td>False</td>\n",
       "      <td>False</td>\n",
       "    </tr>\n",
       "    <tr>\n",
       "      <th>Mohan</th>\n",
       "      <td>True</td>\n",
       "      <td>False</td>\n",
       "      <td>False</td>\n",
       "      <td>False</td>\n",
       "    </tr>\n",
       "    <tr>\n",
       "      <th>Vishal</th>\n",
       "      <td>False</td>\n",
       "      <td>False</td>\n",
       "      <td>False</td>\n",
       "      <td>True</td>\n",
       "    </tr>\n",
       "  </tbody>\n",
       "</table>\n",
       "</div>"
      ],
      "text/plain": [
       "        Ex01_Date  Ex02_Date  Ex03_Date  Ex04_Date\n",
       "Ajay        False      False       True      False\n",
       "Chetan      False       True       True      False\n",
       "Girish      False      False      False      False\n",
       "Mohan        True      False      False      False\n",
       "Vishal      False      False      False       True"
      ]
     },
     "execution_count": 6,
     "metadata": {},
     "output_type": "execute_result"
    }
   ],
   "source": [
    "df.isin(imp_dates)"
   ]
  },
  {
   "cell_type": "markdown",
   "id": "8844b3a6",
   "metadata": {},
   "source": [
    "Now, to filter the rows that contain our dates of interest, we use the values present in the Boolean DataFrame as a filter over the DataFrame. \n",
    "\n",
    "But, the filter needs to be a Series object which contains the row labels containing our dates of interest.\n",
    "\n",
    "In the above boolean DataFrame, the row lables that contain True would be \"Ajay\", \"Chetan\", \"Mohan\" and \"Vishal\"\n",
    "\n",
    "To get the required Series, we can sum up the values along each row.\n",
    "\n",
    "Any row that contains atleast one True value would sum up into a value greater than 0\n",
    "\n",
    "Or, in other words, if a row has only False values, then its sum would be 0\n",
    "\n",
    "We can sum up all the boolean values along each row using `sum(axis=1)`\n",
    "\n",
    "**Note:** Using `sum()` by default sums the boolean values along each column"
   ]
  },
  {
   "cell_type": "code",
   "execution_count": 7,
   "id": "3c4e5be8",
   "metadata": {},
   "outputs": [
    {
     "data": {
      "text/plain": [
       "Ajay      1\n",
       "Chetan    2\n",
       "Girish    0\n",
       "Mohan     1\n",
       "Vishal    1\n",
       "dtype: int64"
      ]
     },
     "execution_count": 7,
     "metadata": {},
     "output_type": "execute_result"
    }
   ],
   "source": [
    "df.isin(imp_dates).sum(axis=1)"
   ]
  },
  {
   "cell_type": "markdown",
   "id": "9c9174f9",
   "metadata": {},
   "source": [
    "We are interested in only those rows that contain atleast one True value. So, the sum value for such rows would be > 0\n",
    "\n",
    "Let's create a mask of the boolean Series for the above comparison "
   ]
  },
  {
   "cell_type": "code",
   "execution_count": 8,
   "id": "9ca07ae9",
   "metadata": {},
   "outputs": [
    {
     "data": {
      "text/plain": [
       "Ajay       True\n",
       "Chetan     True\n",
       "Girish    False\n",
       "Mohan      True\n",
       "Vishal     True\n",
       "dtype: bool"
      ]
     },
     "execution_count": 8,
     "metadata": {},
     "output_type": "execute_result"
    }
   ],
   "source": [
    "mask_1819 = df.isin(imp_dates).sum(axis=1) > 0\n",
    "mask_1819"
   ]
  },
  {
   "cell_type": "markdown",
   "id": "86126dae",
   "metadata": {},
   "source": [
    "Now, let's use the mask to filter the values in the DataFrame"
   ]
  },
  {
   "cell_type": "code",
   "execution_count": 9,
   "id": "efce2575",
   "metadata": {},
   "outputs": [
    {
     "data": {
      "text/html": [
       "<div>\n",
       "<style scoped>\n",
       "    .dataframe tbody tr th:only-of-type {\n",
       "        vertical-align: middle;\n",
       "    }\n",
       "\n",
       "    .dataframe tbody tr th {\n",
       "        vertical-align: top;\n",
       "    }\n",
       "\n",
       "    .dataframe thead th {\n",
       "        text-align: right;\n",
       "    }\n",
       "</style>\n",
       "<table border=\"1\" class=\"dataframe\">\n",
       "  <thead>\n",
       "    <tr style=\"text-align: right;\">\n",
       "      <th></th>\n",
       "      <th>Ex01_Date</th>\n",
       "      <th>Ex02_Date</th>\n",
       "      <th>Ex03_Date</th>\n",
       "      <th>Ex04_Date</th>\n",
       "    </tr>\n",
       "  </thead>\n",
       "  <tbody>\n",
       "    <tr>\n",
       "      <th>Ajay</th>\n",
       "      <td>12-Jan-2023</td>\n",
       "      <td>14-Jan-2023</td>\n",
       "      <td>18-Jan-2023</td>\n",
       "      <td>16-Jan-2023</td>\n",
       "    </tr>\n",
       "    <tr>\n",
       "      <th>Chetan</th>\n",
       "      <td>17-Jan-2023</td>\n",
       "      <td>18-Jan-2023</td>\n",
       "      <td>19-Jan-2023</td>\n",
       "      <td>NaN</td>\n",
       "    </tr>\n",
       "    <tr>\n",
       "      <th>Mohan</th>\n",
       "      <td>19-Jan-2023</td>\n",
       "      <td>NaN</td>\n",
       "      <td>NaN</td>\n",
       "      <td>NaN</td>\n",
       "    </tr>\n",
       "    <tr>\n",
       "      <th>Vishal</th>\n",
       "      <td>14-Jan-2023</td>\n",
       "      <td>15-Jan-2023</td>\n",
       "      <td>17-Jan-2023</td>\n",
       "      <td>18-Jan-2023</td>\n",
       "    </tr>\n",
       "  </tbody>\n",
       "</table>\n",
       "</div>"
      ],
      "text/plain": [
       "          Ex01_Date    Ex02_Date    Ex03_Date    Ex04_Date\n",
       "Ajay    12-Jan-2023  14-Jan-2023  18-Jan-2023  16-Jan-2023\n",
       "Chetan  17-Jan-2023  18-Jan-2023  19-Jan-2023          NaN\n",
       "Mohan   19-Jan-2023          NaN          NaN          NaN\n",
       "Vishal  14-Jan-2023  15-Jan-2023  17-Jan-2023  18-Jan-2023"
      ]
     },
     "execution_count": 9,
     "metadata": {},
     "output_type": "execute_result"
    }
   ],
   "source": [
    "df[mask_1819]"
   ]
  },
  {
   "cell_type": "markdown",
   "id": "3c1879d6",
   "metadata": {},
   "source": [
    "And that is our expected result.\n",
    "\n",
    "Compare the result with the highlighted values shown below from the original DataFrame"
   ]
  },
  {
   "cell_type": "code",
   "execution_count": 12,
   "id": "45b27fc2",
   "metadata": {},
   "outputs": [
    {
     "data": {
      "text/html": [
       "<style type=\"text/css\">\n",
       "#T_b7ce2_row0_col2, #T_b7ce2_row1_col1, #T_b7ce2_row1_col2, #T_b7ce2_row3_col0, #T_b7ce2_row4_col3 {\n",
       "  background-color: bisque;\n",
       "}\n",
       "</style>\n",
       "<table id=\"T_b7ce2_\">\n",
       "  <thead>\n",
       "    <tr>\n",
       "      <th class=\"blank level0\" >&nbsp;</th>\n",
       "      <th class=\"col_heading level0 col0\" >Ex01_Date</th>\n",
       "      <th class=\"col_heading level0 col1\" >Ex02_Date</th>\n",
       "      <th class=\"col_heading level0 col2\" >Ex03_Date</th>\n",
       "      <th class=\"col_heading level0 col3\" >Ex04_Date</th>\n",
       "    </tr>\n",
       "  </thead>\n",
       "  <tbody>\n",
       "    <tr>\n",
       "      <th id=\"T_b7ce2_level0_row0\" class=\"row_heading level0 row0\" >Ajay</th>\n",
       "      <td id=\"T_b7ce2_row0_col0\" class=\"data row0 col0\" >12-Jan-2023</td>\n",
       "      <td id=\"T_b7ce2_row0_col1\" class=\"data row0 col1\" >14-Jan-2023</td>\n",
       "      <td id=\"T_b7ce2_row0_col2\" class=\"data row0 col2\" >18-Jan-2023</td>\n",
       "      <td id=\"T_b7ce2_row0_col3\" class=\"data row0 col3\" >16-Jan-2023</td>\n",
       "    </tr>\n",
       "    <tr>\n",
       "      <th id=\"T_b7ce2_level0_row1\" class=\"row_heading level0 row1\" >Chetan</th>\n",
       "      <td id=\"T_b7ce2_row1_col0\" class=\"data row1 col0\" >17-Jan-2023</td>\n",
       "      <td id=\"T_b7ce2_row1_col1\" class=\"data row1 col1\" >18-Jan-2023</td>\n",
       "      <td id=\"T_b7ce2_row1_col2\" class=\"data row1 col2\" >19-Jan-2023</td>\n",
       "      <td id=\"T_b7ce2_row1_col3\" class=\"data row1 col3\" >nan</td>\n",
       "    </tr>\n",
       "    <tr>\n",
       "      <th id=\"T_b7ce2_level0_row2\" class=\"row_heading level0 row2\" >Girish</th>\n",
       "      <td id=\"T_b7ce2_row2_col0\" class=\"data row2 col0\" >17-Jan-2023</td>\n",
       "      <td id=\"T_b7ce2_row2_col1\" class=\"data row2 col1\" >nan</td>\n",
       "      <td id=\"T_b7ce2_row2_col2\" class=\"data row2 col2\" >15-Jan-2023</td>\n",
       "      <td id=\"T_b7ce2_row2_col3\" class=\"data row2 col3\" >nan</td>\n",
       "    </tr>\n",
       "    <tr>\n",
       "      <th id=\"T_b7ce2_level0_row3\" class=\"row_heading level0 row3\" >Mohan</th>\n",
       "      <td id=\"T_b7ce2_row3_col0\" class=\"data row3 col0\" >19-Jan-2023</td>\n",
       "      <td id=\"T_b7ce2_row3_col1\" class=\"data row3 col1\" >nan</td>\n",
       "      <td id=\"T_b7ce2_row3_col2\" class=\"data row3 col2\" >nan</td>\n",
       "      <td id=\"T_b7ce2_row3_col3\" class=\"data row3 col3\" >nan</td>\n",
       "    </tr>\n",
       "    <tr>\n",
       "      <th id=\"T_b7ce2_level0_row4\" class=\"row_heading level0 row4\" >Vishal</th>\n",
       "      <td id=\"T_b7ce2_row4_col0\" class=\"data row4 col0\" >14-Jan-2023</td>\n",
       "      <td id=\"T_b7ce2_row4_col1\" class=\"data row4 col1\" >15-Jan-2023</td>\n",
       "      <td id=\"T_b7ce2_row4_col2\" class=\"data row4 col2\" >17-Jan-2023</td>\n",
       "      <td id=\"T_b7ce2_row4_col3\" class=\"data row4 col3\" >18-Jan-2023</td>\n",
       "    </tr>\n",
       "  </tbody>\n",
       "</table>\n"
      ],
      "text/plain": [
       "<pandas.io.formats.style.Styler at 0x1270c2880>"
      ]
     },
     "execution_count": 12,
     "metadata": {},
     "output_type": "execute_result"
    }
   ],
   "source": []
  },
  {
   "cell_type": "markdown",
   "id": "f8bd8692",
   "metadata": {},
   "source": [
    "## Highlighting specific cells\n",
    "\n",
    "Wait a minute. How did we get those nicely colored cells above?\n",
    "\n",
    "Well, this is more of a digression from the topic we are discussing here.\n",
    "But, it's a good one I guess :-) \n",
    "\n",
    "For highlighting specific rows or columns or cells in a Pandas Dataframe, we use it's `style` property\n",
    "\n",
    "One handy method on the `style` property is `highlight_null`. As the name suggests, it is used to highlight empty or `NaN` entries in a DataFrame. The usefulness of this is that it becomes pretty easy to visually spot the empty cells.\n",
    "\n",
    "Following code explains how `highlight_null` can be used to highlight empty cells with a \"lightsalmon\" color"
   ]
  },
  {
   "cell_type": "code",
   "execution_count": 10,
   "id": "6782a39d",
   "metadata": {},
   "outputs": [
    {
     "data": {
      "text/html": [
       "<style type=\"text/css\">\n",
       "#T_12a1f_row1_col3, #T_12a1f_row2_col1, #T_12a1f_row2_col3, #T_12a1f_row3_col1, #T_12a1f_row3_col2, #T_12a1f_row3_col3 {\n",
       "  background-color: lightsalmon;\n",
       "}\n",
       "</style>\n",
       "<table id=\"T_12a1f_\">\n",
       "  <thead>\n",
       "    <tr>\n",
       "      <th class=\"blank level0\" >&nbsp;</th>\n",
       "      <th class=\"col_heading level0 col0\" >Ex01_Date</th>\n",
       "      <th class=\"col_heading level0 col1\" >Ex02_Date</th>\n",
       "      <th class=\"col_heading level0 col2\" >Ex03_Date</th>\n",
       "      <th class=\"col_heading level0 col3\" >Ex04_Date</th>\n",
       "    </tr>\n",
       "  </thead>\n",
       "  <tbody>\n",
       "    <tr>\n",
       "      <th id=\"T_12a1f_level0_row0\" class=\"row_heading level0 row0\" >Ajay</th>\n",
       "      <td id=\"T_12a1f_row0_col0\" class=\"data row0 col0\" >12-Jan-2023</td>\n",
       "      <td id=\"T_12a1f_row0_col1\" class=\"data row0 col1\" >14-Jan-2023</td>\n",
       "      <td id=\"T_12a1f_row0_col2\" class=\"data row0 col2\" >18-Jan-2023</td>\n",
       "      <td id=\"T_12a1f_row0_col3\" class=\"data row0 col3\" >16-Jan-2023</td>\n",
       "    </tr>\n",
       "    <tr>\n",
       "      <th id=\"T_12a1f_level0_row1\" class=\"row_heading level0 row1\" >Chetan</th>\n",
       "      <td id=\"T_12a1f_row1_col0\" class=\"data row1 col0\" >17-Jan-2023</td>\n",
       "      <td id=\"T_12a1f_row1_col1\" class=\"data row1 col1\" >18-Jan-2023</td>\n",
       "      <td id=\"T_12a1f_row1_col2\" class=\"data row1 col2\" >19-Jan-2023</td>\n",
       "      <td id=\"T_12a1f_row1_col3\" class=\"data row1 col3\" >nan</td>\n",
       "    </tr>\n",
       "    <tr>\n",
       "      <th id=\"T_12a1f_level0_row2\" class=\"row_heading level0 row2\" >Girish</th>\n",
       "      <td id=\"T_12a1f_row2_col0\" class=\"data row2 col0\" >17-Jan-2023</td>\n",
       "      <td id=\"T_12a1f_row2_col1\" class=\"data row2 col1\" >nan</td>\n",
       "      <td id=\"T_12a1f_row2_col2\" class=\"data row2 col2\" >15-Jan-2023</td>\n",
       "      <td id=\"T_12a1f_row2_col3\" class=\"data row2 col3\" >nan</td>\n",
       "    </tr>\n",
       "    <tr>\n",
       "      <th id=\"T_12a1f_level0_row3\" class=\"row_heading level0 row3\" >Mohan</th>\n",
       "      <td id=\"T_12a1f_row3_col0\" class=\"data row3 col0\" >19-Jan-2023</td>\n",
       "      <td id=\"T_12a1f_row3_col1\" class=\"data row3 col1\" >nan</td>\n",
       "      <td id=\"T_12a1f_row3_col2\" class=\"data row3 col2\" >nan</td>\n",
       "      <td id=\"T_12a1f_row3_col3\" class=\"data row3 col3\" >nan</td>\n",
       "    </tr>\n",
       "    <tr>\n",
       "      <th id=\"T_12a1f_level0_row4\" class=\"row_heading level0 row4\" >Vishal</th>\n",
       "      <td id=\"T_12a1f_row4_col0\" class=\"data row4 col0\" >14-Jan-2023</td>\n",
       "      <td id=\"T_12a1f_row4_col1\" class=\"data row4 col1\" >15-Jan-2023</td>\n",
       "      <td id=\"T_12a1f_row4_col2\" class=\"data row4 col2\" >17-Jan-2023</td>\n",
       "      <td id=\"T_12a1f_row4_col3\" class=\"data row4 col3\" >18-Jan-2023</td>\n",
       "    </tr>\n",
       "  </tbody>\n",
       "</table>\n"
      ],
      "text/plain": [
       "<pandas.io.formats.style.Styler at 0x122b17640>"
      ]
     },
     "execution_count": 10,
     "metadata": {},
     "output_type": "execute_result"
    }
   ],
   "source": [
    "df.style.highlight_null('lightsalmon')"
   ]
  },
  {
   "cell_type": "markdown",
   "id": "4b1cbbf1",
   "metadata": {},
   "source": [
    "You can find the list of the colors that you can provide at [this stackoverflow answer](https://stackoverflow.com/a/37232760/4106458)"
   ]
  },
  {
   "cell_type": "markdown",
   "id": "24a8c8b3",
   "metadata": {},
   "source": [
    "But, to be able to highlight specific cells based on a condition, we need to tweak the underlying html properties as mentioned in [this stackoverflow answer](https://stackoverflow.com/a/53185070/4106458)\n",
    "\n",
    "We use `applymap` method to element-wise apply these CSS style changes\n",
    "\n",
    "We use a `lambda` function to decide if the CSS style changes are needed, based on the comparison of the cell value with the values present in `imp_date` list"
   ]
  },
  {
   "cell_type": "code",
   "execution_count": 11,
   "id": "96650a1e",
   "metadata": {},
   "outputs": [
    {
     "data": {
      "text/html": [
       "<style type=\"text/css\">\n",
       "#T_5d3bb_row0_col2, #T_5d3bb_row1_col1, #T_5d3bb_row1_col2, #T_5d3bb_row3_col0, #T_5d3bb_row4_col3 {\n",
       "  background-color: bisque;\n",
       "}\n",
       "</style>\n",
       "<table id=\"T_5d3bb_\">\n",
       "  <thead>\n",
       "    <tr>\n",
       "      <th class=\"blank level0\" >&nbsp;</th>\n",
       "      <th class=\"col_heading level0 col0\" >Ex01_Date</th>\n",
       "      <th class=\"col_heading level0 col1\" >Ex02_Date</th>\n",
       "      <th class=\"col_heading level0 col2\" >Ex03_Date</th>\n",
       "      <th class=\"col_heading level0 col3\" >Ex04_Date</th>\n",
       "    </tr>\n",
       "  </thead>\n",
       "  <tbody>\n",
       "    <tr>\n",
       "      <th id=\"T_5d3bb_level0_row0\" class=\"row_heading level0 row0\" >Ajay</th>\n",
       "      <td id=\"T_5d3bb_row0_col0\" class=\"data row0 col0\" >12-Jan-2023</td>\n",
       "      <td id=\"T_5d3bb_row0_col1\" class=\"data row0 col1\" >14-Jan-2023</td>\n",
       "      <td id=\"T_5d3bb_row0_col2\" class=\"data row0 col2\" >18-Jan-2023</td>\n",
       "      <td id=\"T_5d3bb_row0_col3\" class=\"data row0 col3\" >16-Jan-2023</td>\n",
       "    </tr>\n",
       "    <tr>\n",
       "      <th id=\"T_5d3bb_level0_row1\" class=\"row_heading level0 row1\" >Chetan</th>\n",
       "      <td id=\"T_5d3bb_row1_col0\" class=\"data row1 col0\" >17-Jan-2023</td>\n",
       "      <td id=\"T_5d3bb_row1_col1\" class=\"data row1 col1\" >18-Jan-2023</td>\n",
       "      <td id=\"T_5d3bb_row1_col2\" class=\"data row1 col2\" >19-Jan-2023</td>\n",
       "      <td id=\"T_5d3bb_row1_col3\" class=\"data row1 col3\" >nan</td>\n",
       "    </tr>\n",
       "    <tr>\n",
       "      <th id=\"T_5d3bb_level0_row2\" class=\"row_heading level0 row2\" >Girish</th>\n",
       "      <td id=\"T_5d3bb_row2_col0\" class=\"data row2 col0\" >17-Jan-2023</td>\n",
       "      <td id=\"T_5d3bb_row2_col1\" class=\"data row2 col1\" >nan</td>\n",
       "      <td id=\"T_5d3bb_row2_col2\" class=\"data row2 col2\" >15-Jan-2023</td>\n",
       "      <td id=\"T_5d3bb_row2_col3\" class=\"data row2 col3\" >nan</td>\n",
       "    </tr>\n",
       "    <tr>\n",
       "      <th id=\"T_5d3bb_level0_row3\" class=\"row_heading level0 row3\" >Mohan</th>\n",
       "      <td id=\"T_5d3bb_row3_col0\" class=\"data row3 col0\" >19-Jan-2023</td>\n",
       "      <td id=\"T_5d3bb_row3_col1\" class=\"data row3 col1\" >nan</td>\n",
       "      <td id=\"T_5d3bb_row3_col2\" class=\"data row3 col2\" >nan</td>\n",
       "      <td id=\"T_5d3bb_row3_col3\" class=\"data row3 col3\" >nan</td>\n",
       "    </tr>\n",
       "    <tr>\n",
       "      <th id=\"T_5d3bb_level0_row4\" class=\"row_heading level0 row4\" >Vishal</th>\n",
       "      <td id=\"T_5d3bb_row4_col0\" class=\"data row4 col0\" >14-Jan-2023</td>\n",
       "      <td id=\"T_5d3bb_row4_col1\" class=\"data row4 col1\" >15-Jan-2023</td>\n",
       "      <td id=\"T_5d3bb_row4_col2\" class=\"data row4 col2\" >17-Jan-2023</td>\n",
       "      <td id=\"T_5d3bb_row4_col3\" class=\"data row4 col3\" >18-Jan-2023</td>\n",
       "    </tr>\n",
       "  </tbody>\n",
       "</table>\n"
      ],
      "text/plain": [
       "<pandas.io.formats.style.Styler at 0x1270e19a0>"
      ]
     },
     "execution_count": 11,
     "metadata": {},
     "output_type": "execute_result"
    }
   ],
   "source": [
    "(df\n",
    ".style\n",
    ".applymap(lambda x: 'background-color:bisque' \n",
    "              if x in imp_dates else None)\n",
    ")"
   ]
  },
  {
   "cell_type": "code",
   "execution_count": null,
   "id": "8c15fe29",
   "metadata": {},
   "outputs": [],
   "source": []
  }
 ],
 "metadata": {
  "kernelspec": {
   "display_name": "Python 3 (ipykernel)",
   "language": "python",
   "name": "python3"
  },
  "language_info": {
   "codemirror_mode": {
    "name": "ipython",
    "version": 3
   },
   "file_extension": ".py",
   "mimetype": "text/x-python",
   "name": "python",
   "nbconvert_exporter": "python",
   "pygments_lexer": "ipython3",
   "version": "3.9.8"
  }
 },
 "nbformat": 4,
 "nbformat_minor": 5
}
