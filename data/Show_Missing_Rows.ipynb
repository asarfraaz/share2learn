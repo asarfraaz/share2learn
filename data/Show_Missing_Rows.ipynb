{
 "cells": [
  {
   "cell_type": "markdown",
   "id": "8aac627b",
   "metadata": {},
   "source": [
    "Let's first load the dataset"
   ]
  },
  {
   "cell_type": "code",
   "execution_count": 1,
   "id": "738f92cf",
   "metadata": {},
   "outputs": [],
   "source": [
    "import pandas as pd"
   ]
  },
  {
   "cell_type": "code",
   "execution_count": 27,
   "id": "df46a09a",
   "metadata": {},
   "outputs": [
    {
     "data": {
      "text/html": [
       "<div>\n",
       "<style scoped>\n",
       "    .dataframe tbody tr th:only-of-type {\n",
       "        vertical-align: middle;\n",
       "    }\n",
       "\n",
       "    .dataframe tbody tr th {\n",
       "        vertical-align: top;\n",
       "    }\n",
       "\n",
       "    .dataframe thead th {\n",
       "        text-align: right;\n",
       "    }\n",
       "</style>\n",
       "<table border=\"1\" class=\"dataframe\">\n",
       "  <thead>\n",
       "    <tr style=\"text-align: right;\">\n",
       "      <th></th>\n",
       "      <th>Name</th>\n",
       "      <th>Ex01_Date</th>\n",
       "      <th>Ex02_Date</th>\n",
       "      <th>Ex03_Date</th>\n",
       "      <th>Ex04_Date</th>\n",
       "    </tr>\n",
       "  </thead>\n",
       "  <tbody>\n",
       "    <tr>\n",
       "      <th>0</th>\n",
       "      <td>Ajay</td>\n",
       "      <td>12-Jan-2023</td>\n",
       "      <td>14-Jan-2023</td>\n",
       "      <td>18-Jan-2023</td>\n",
       "      <td>16-Jan-2023</td>\n",
       "    </tr>\n",
       "    <tr>\n",
       "      <th>1</th>\n",
       "      <td>Chetan</td>\n",
       "      <td>17-Jan-2023</td>\n",
       "      <td>18-Jan-2023</td>\n",
       "      <td>19-Jan-2023</td>\n",
       "      <td>NaN</td>\n",
       "    </tr>\n",
       "    <tr>\n",
       "      <th>2</th>\n",
       "      <td>Girish</td>\n",
       "      <td>17-Jan-2023</td>\n",
       "      <td>NaN</td>\n",
       "      <td>15-Jan-2023</td>\n",
       "      <td>NaN</td>\n",
       "    </tr>\n",
       "    <tr>\n",
       "      <th>3</th>\n",
       "      <td>Mohan</td>\n",
       "      <td>19-Jan-2023</td>\n",
       "      <td>NaN</td>\n",
       "      <td>NaN</td>\n",
       "      <td>NaN</td>\n",
       "    </tr>\n",
       "    <tr>\n",
       "      <th>4</th>\n",
       "      <td>Vishal</td>\n",
       "      <td>14-Jan-2023</td>\n",
       "      <td>15-Jan-2023</td>\n",
       "      <td>17-Jan-2023</td>\n",
       "      <td>18-Jan-2023</td>\n",
       "    </tr>\n",
       "  </tbody>\n",
       "</table>\n",
       "</div>"
      ],
      "text/plain": [
       "     Name    Ex01_Date    Ex02_Date    Ex03_Date    Ex04_Date\n",
       "0    Ajay  12-Jan-2023  14-Jan-2023  18-Jan-2023  16-Jan-2023\n",
       "1  Chetan  17-Jan-2023  18-Jan-2023  19-Jan-2023          NaN\n",
       "2  Girish  17-Jan-2023          NaN  15-Jan-2023          NaN\n",
       "3   Mohan  19-Jan-2023          NaN          NaN          NaN\n",
       "4  Vishal  14-Jan-2023  15-Jan-2023  17-Jan-2023  18-Jan-2023"
      ]
     },
     "execution_count": 27,
     "metadata": {},
     "output_type": "execute_result"
    }
   ],
   "source": [
    "df = pd.read_csv('exercises_table.csv')\n",
    "df"
   ]
  },
  {
   "cell_type": "markdown",
   "id": "bd5ab42b",
   "metadata": {},
   "source": [
    "Let's make the \"Name\" column as the index, so that we can now identify each row by the name of the student"
   ]
  },
  {
   "cell_type": "code",
   "execution_count": 28,
   "id": "c4b73818",
   "metadata": {},
   "outputs": [
    {
     "data": {
      "text/html": [
       "<div>\n",
       "<style scoped>\n",
       "    .dataframe tbody tr th:only-of-type {\n",
       "        vertical-align: middle;\n",
       "    }\n",
       "\n",
       "    .dataframe tbody tr th {\n",
       "        vertical-align: top;\n",
       "    }\n",
       "\n",
       "    .dataframe thead th {\n",
       "        text-align: right;\n",
       "    }\n",
       "</style>\n",
       "<table border=\"1\" class=\"dataframe\">\n",
       "  <thead>\n",
       "    <tr style=\"text-align: right;\">\n",
       "      <th></th>\n",
       "      <th>Ex01_Date</th>\n",
       "      <th>Ex02_Date</th>\n",
       "      <th>Ex03_Date</th>\n",
       "      <th>Ex04_Date</th>\n",
       "    </tr>\n",
       "    <tr>\n",
       "      <th>Name</th>\n",
       "      <th></th>\n",
       "      <th></th>\n",
       "      <th></th>\n",
       "      <th></th>\n",
       "    </tr>\n",
       "  </thead>\n",
       "  <tbody>\n",
       "    <tr>\n",
       "      <th>Ajay</th>\n",
       "      <td>12-Jan-2023</td>\n",
       "      <td>14-Jan-2023</td>\n",
       "      <td>18-Jan-2023</td>\n",
       "      <td>16-Jan-2023</td>\n",
       "    </tr>\n",
       "    <tr>\n",
       "      <th>Chetan</th>\n",
       "      <td>17-Jan-2023</td>\n",
       "      <td>18-Jan-2023</td>\n",
       "      <td>19-Jan-2023</td>\n",
       "      <td>NaN</td>\n",
       "    </tr>\n",
       "    <tr>\n",
       "      <th>Girish</th>\n",
       "      <td>17-Jan-2023</td>\n",
       "      <td>NaN</td>\n",
       "      <td>15-Jan-2023</td>\n",
       "      <td>NaN</td>\n",
       "    </tr>\n",
       "    <tr>\n",
       "      <th>Mohan</th>\n",
       "      <td>19-Jan-2023</td>\n",
       "      <td>NaN</td>\n",
       "      <td>NaN</td>\n",
       "      <td>NaN</td>\n",
       "    </tr>\n",
       "    <tr>\n",
       "      <th>Vishal</th>\n",
       "      <td>14-Jan-2023</td>\n",
       "      <td>15-Jan-2023</td>\n",
       "      <td>17-Jan-2023</td>\n",
       "      <td>18-Jan-2023</td>\n",
       "    </tr>\n",
       "  </tbody>\n",
       "</table>\n",
       "</div>"
      ],
      "text/plain": [
       "          Ex01_Date    Ex02_Date    Ex03_Date    Ex04_Date\n",
       "Name                                                      \n",
       "Ajay    12-Jan-2023  14-Jan-2023  18-Jan-2023  16-Jan-2023\n",
       "Chetan  17-Jan-2023  18-Jan-2023  19-Jan-2023          NaN\n",
       "Girish  17-Jan-2023          NaN  15-Jan-2023          NaN\n",
       "Mohan   19-Jan-2023          NaN          NaN          NaN\n",
       "Vishal  14-Jan-2023  15-Jan-2023  17-Jan-2023  18-Jan-2023"
      ]
     },
     "execution_count": 28,
     "metadata": {},
     "output_type": "execute_result"
    }
   ],
   "source": [
    "df.set_index('Name', inplace=True)\n",
    "df"
   ]
  },
  {
   "cell_type": "markdown",
   "id": "0bd61eda",
   "metadata": {},
   "source": [
    "One neat trick ( more of a hack though ) to remove the name for the Row index called as \"Name\" is to set it's name attribute to None"
   ]
  },
  {
   "cell_type": "code",
   "execution_count": 29,
   "id": "7fa79042",
   "metadata": {},
   "outputs": [
    {
     "data": {
      "text/html": [
       "<div>\n",
       "<style scoped>\n",
       "    .dataframe tbody tr th:only-of-type {\n",
       "        vertical-align: middle;\n",
       "    }\n",
       "\n",
       "    .dataframe tbody tr th {\n",
       "        vertical-align: top;\n",
       "    }\n",
       "\n",
       "    .dataframe thead th {\n",
       "        text-align: right;\n",
       "    }\n",
       "</style>\n",
       "<table border=\"1\" class=\"dataframe\">\n",
       "  <thead>\n",
       "    <tr style=\"text-align: right;\">\n",
       "      <th></th>\n",
       "      <th>Ex01_Date</th>\n",
       "      <th>Ex02_Date</th>\n",
       "      <th>Ex03_Date</th>\n",
       "      <th>Ex04_Date</th>\n",
       "    </tr>\n",
       "  </thead>\n",
       "  <tbody>\n",
       "    <tr>\n",
       "      <th>Ajay</th>\n",
       "      <td>12-Jan-2023</td>\n",
       "      <td>14-Jan-2023</td>\n",
       "      <td>18-Jan-2023</td>\n",
       "      <td>16-Jan-2023</td>\n",
       "    </tr>\n",
       "    <tr>\n",
       "      <th>Chetan</th>\n",
       "      <td>17-Jan-2023</td>\n",
       "      <td>18-Jan-2023</td>\n",
       "      <td>19-Jan-2023</td>\n",
       "      <td>NaN</td>\n",
       "    </tr>\n",
       "    <tr>\n",
       "      <th>Girish</th>\n",
       "      <td>17-Jan-2023</td>\n",
       "      <td>NaN</td>\n",
       "      <td>15-Jan-2023</td>\n",
       "      <td>NaN</td>\n",
       "    </tr>\n",
       "    <tr>\n",
       "      <th>Mohan</th>\n",
       "      <td>19-Jan-2023</td>\n",
       "      <td>NaN</td>\n",
       "      <td>NaN</td>\n",
       "      <td>NaN</td>\n",
       "    </tr>\n",
       "    <tr>\n",
       "      <th>Vishal</th>\n",
       "      <td>14-Jan-2023</td>\n",
       "      <td>15-Jan-2023</td>\n",
       "      <td>17-Jan-2023</td>\n",
       "      <td>18-Jan-2023</td>\n",
       "    </tr>\n",
       "  </tbody>\n",
       "</table>\n",
       "</div>"
      ],
      "text/plain": [
       "          Ex01_Date    Ex02_Date    Ex03_Date    Ex04_Date\n",
       "Ajay    12-Jan-2023  14-Jan-2023  18-Jan-2023  16-Jan-2023\n",
       "Chetan  17-Jan-2023  18-Jan-2023  19-Jan-2023          NaN\n",
       "Girish  17-Jan-2023          NaN  15-Jan-2023          NaN\n",
       "Mohan   19-Jan-2023          NaN          NaN          NaN\n",
       "Vishal  14-Jan-2023  15-Jan-2023  17-Jan-2023  18-Jan-2023"
      ]
     },
     "execution_count": 29,
     "metadata": {},
     "output_type": "execute_result"
    }
   ],
   "source": [
    "df.index.name = None\n",
    "df"
   ]
  },
  {
   "cell_type": "markdown",
   "id": "d6b6df37",
   "metadata": {},
   "source": [
    "How can we find out the students and exercises that were submitted on 18-Jan-2023 and 19-Jan-2023 ?\n",
    "\n",
    "Let's start by defining the required dates in a list `imp_dates`\n"
   ]
  },
  {
   "cell_type": "code",
   "execution_count": null,
   "id": "dad7e033",
   "metadata": {},
   "outputs": [],
   "source": [
    "imp_dates = ['18-Jan-2023', '19-Jan-2023']"
   ]
  },
  {
   "cell_type": "markdown",
   "id": "cbf44fe2",
   "metadata": {},
   "source": [
    "Now, we need to check which of the values in `df` contain any of the dates present in `imp_dates`. This can be achieved using `isin` method of DataFrame\n",
    "\n",
    "This returns a boolean DataFrame with cells that contain any of our values of interest ( any date present in `imp_dates` ) having `True` and the rest as `False`"
   ]
  },
  {
   "cell_type": "code",
   "execution_count": 56,
   "id": "9e620502",
   "metadata": {},
   "outputs": [
    {
     "data": {
      "text/html": [
       "<div>\n",
       "<style scoped>\n",
       "    .dataframe tbody tr th:only-of-type {\n",
       "        vertical-align: middle;\n",
       "    }\n",
       "\n",
       "    .dataframe tbody tr th {\n",
       "        vertical-align: top;\n",
       "    }\n",
       "\n",
       "    .dataframe thead th {\n",
       "        text-align: right;\n",
       "    }\n",
       "</style>\n",
       "<table border=\"1\" class=\"dataframe\">\n",
       "  <thead>\n",
       "    <tr style=\"text-align: right;\">\n",
       "      <th></th>\n",
       "      <th>Ex01_Date</th>\n",
       "      <th>Ex02_Date</th>\n",
       "      <th>Ex03_Date</th>\n",
       "      <th>Ex04_Date</th>\n",
       "    </tr>\n",
       "  </thead>\n",
       "  <tbody>\n",
       "    <tr>\n",
       "      <th>Ajay</th>\n",
       "      <td>False</td>\n",
       "      <td>False</td>\n",
       "      <td>True</td>\n",
       "      <td>False</td>\n",
       "    </tr>\n",
       "    <tr>\n",
       "      <th>Chetan</th>\n",
       "      <td>False</td>\n",
       "      <td>True</td>\n",
       "      <td>True</td>\n",
       "      <td>False</td>\n",
       "    </tr>\n",
       "    <tr>\n",
       "      <th>Girish</th>\n",
       "      <td>False</td>\n",
       "      <td>False</td>\n",
       "      <td>False</td>\n",
       "      <td>False</td>\n",
       "    </tr>\n",
       "    <tr>\n",
       "      <th>Mohan</th>\n",
       "      <td>True</td>\n",
       "      <td>False</td>\n",
       "      <td>False</td>\n",
       "      <td>False</td>\n",
       "    </tr>\n",
       "    <tr>\n",
       "      <th>Vishal</th>\n",
       "      <td>False</td>\n",
       "      <td>False</td>\n",
       "      <td>False</td>\n",
       "      <td>True</td>\n",
       "    </tr>\n",
       "  </tbody>\n",
       "</table>\n",
       "</div>"
      ],
      "text/plain": [
       "        Ex01_Date  Ex02_Date  Ex03_Date  Ex04_Date\n",
       "Ajay        False      False       True      False\n",
       "Chetan      False       True       True      False\n",
       "Girish      False      False      False      False\n",
       "Mohan        True      False      False      False\n",
       "Vishal      False      False      False       True"
      ]
     },
     "execution_count": 56,
     "metadata": {},
     "output_type": "execute_result"
    }
   ],
   "source": [
    "df.isin(imp_dates)"
   ]
  },
  {
   "cell_type": "markdown",
   "id": "66913c80",
   "metadata": {},
   "source": [
    "Let's highlight the cells that contain `True` value using `style` method of DataFrame"
   ]
  },
  {
   "cell_type": "code",
   "execution_count": 30,
   "id": "6103f462",
   "metadata": {},
   "outputs": [
    {
     "data": {
      "text/html": [
       "<style type=\"text/css\">\n",
       "#T_eaaaa_row0_col2, #T_eaaaa_row1_col1, #T_eaaaa_row1_col2, #T_eaaaa_row3_col0, #T_eaaaa_row4_col3 {\n",
       "  background-color: bisque;\n",
       "}\n",
       "</style>\n",
       "<table id=\"T_eaaaa_\">\n",
       "  <thead>\n",
       "    <tr>\n",
       "      <th class=\"blank level0\" >&nbsp;</th>\n",
       "      <th class=\"col_heading level0 col0\" >Ex01_Date</th>\n",
       "      <th class=\"col_heading level0 col1\" >Ex02_Date</th>\n",
       "      <th class=\"col_heading level0 col2\" >Ex03_Date</th>\n",
       "      <th class=\"col_heading level0 col3\" >Ex04_Date</th>\n",
       "    </tr>\n",
       "  </thead>\n",
       "  <tbody>\n",
       "    <tr>\n",
       "      <th id=\"T_eaaaa_level0_row0\" class=\"row_heading level0 row0\" >Ajay</th>\n",
       "      <td id=\"T_eaaaa_row0_col0\" class=\"data row0 col0\" >False</td>\n",
       "      <td id=\"T_eaaaa_row0_col1\" class=\"data row0 col1\" >False</td>\n",
       "      <td id=\"T_eaaaa_row0_col2\" class=\"data row0 col2\" >True</td>\n",
       "      <td id=\"T_eaaaa_row0_col3\" class=\"data row0 col3\" >False</td>\n",
       "    </tr>\n",
       "    <tr>\n",
       "      <th id=\"T_eaaaa_level0_row1\" class=\"row_heading level0 row1\" >Chetan</th>\n",
       "      <td id=\"T_eaaaa_row1_col0\" class=\"data row1 col0\" >False</td>\n",
       "      <td id=\"T_eaaaa_row1_col1\" class=\"data row1 col1\" >True</td>\n",
       "      <td id=\"T_eaaaa_row1_col2\" class=\"data row1 col2\" >True</td>\n",
       "      <td id=\"T_eaaaa_row1_col3\" class=\"data row1 col3\" >False</td>\n",
       "    </tr>\n",
       "    <tr>\n",
       "      <th id=\"T_eaaaa_level0_row2\" class=\"row_heading level0 row2\" >Girish</th>\n",
       "      <td id=\"T_eaaaa_row2_col0\" class=\"data row2 col0\" >False</td>\n",
       "      <td id=\"T_eaaaa_row2_col1\" class=\"data row2 col1\" >False</td>\n",
       "      <td id=\"T_eaaaa_row2_col2\" class=\"data row2 col2\" >False</td>\n",
       "      <td id=\"T_eaaaa_row2_col3\" class=\"data row2 col3\" >False</td>\n",
       "    </tr>\n",
       "    <tr>\n",
       "      <th id=\"T_eaaaa_level0_row3\" class=\"row_heading level0 row3\" >Mohan</th>\n",
       "      <td id=\"T_eaaaa_row3_col0\" class=\"data row3 col0\" >True</td>\n",
       "      <td id=\"T_eaaaa_row3_col1\" class=\"data row3 col1\" >False</td>\n",
       "      <td id=\"T_eaaaa_row3_col2\" class=\"data row3 col2\" >False</td>\n",
       "      <td id=\"T_eaaaa_row3_col3\" class=\"data row3 col3\" >False</td>\n",
       "    </tr>\n",
       "    <tr>\n",
       "      <th id=\"T_eaaaa_level0_row4\" class=\"row_heading level0 row4\" >Vishal</th>\n",
       "      <td id=\"T_eaaaa_row4_col0\" class=\"data row4 col0\" >False</td>\n",
       "      <td id=\"T_eaaaa_row4_col1\" class=\"data row4 col1\" >False</td>\n",
       "      <td id=\"T_eaaaa_row4_col2\" class=\"data row4 col2\" >False</td>\n",
       "      <td id=\"T_eaaaa_row4_col3\" class=\"data row4 col3\" >True</td>\n",
       "    </tr>\n",
       "  </tbody>\n",
       "</table>\n"
      ],
      "text/plain": [
       "<pandas.io.formats.style.Styler at 0x14cd96490>"
      ]
     },
     "execution_count": 30,
     "metadata": {},
     "output_type": "execute_result"
    }
   ],
   "source": [
    "(df.isin(imp_dates)\n",
    ".style\n",
    ".applymap(lambda x: 'background-color:bisque' \n",
    "              if x else '')\n",
    ")"
   ]
  },
  {
   "cell_type": "markdown",
   "id": "f1a01230",
   "metadata": {},
   "source": [
    "Compare these with the original values of `df` to verify if the results are right\n",
    "\n",
    "Our values of interest are present in the highligthed cells below"
   ]
  },
  {
   "cell_type": "code",
   "execution_count": 57,
   "id": "40e901a4",
   "metadata": {},
   "outputs": [
    {
     "data": {
      "text/html": [
       "<style type=\"text/css\">\n",
       "#T_75841_row0_col2, #T_75841_row1_col1, #T_75841_row1_col2, #T_75841_row3_col0, #T_75841_row4_col3 {\n",
       "  background-color: bisque;\n",
       "}\n",
       "</style>\n",
       "<table id=\"T_75841_\">\n",
       "  <thead>\n",
       "    <tr>\n",
       "      <th class=\"blank level0\" >&nbsp;</th>\n",
       "      <th class=\"col_heading level0 col0\" >Ex01_Date</th>\n",
       "      <th class=\"col_heading level0 col1\" >Ex02_Date</th>\n",
       "      <th class=\"col_heading level0 col2\" >Ex03_Date</th>\n",
       "      <th class=\"col_heading level0 col3\" >Ex04_Date</th>\n",
       "    </tr>\n",
       "  </thead>\n",
       "  <tbody>\n",
       "    <tr>\n",
       "      <th id=\"T_75841_level0_row0\" class=\"row_heading level0 row0\" >Ajay</th>\n",
       "      <td id=\"T_75841_row0_col0\" class=\"data row0 col0\" >12-Jan-2023</td>\n",
       "      <td id=\"T_75841_row0_col1\" class=\"data row0 col1\" >14-Jan-2023</td>\n",
       "      <td id=\"T_75841_row0_col2\" class=\"data row0 col2\" >18-Jan-2023</td>\n",
       "      <td id=\"T_75841_row0_col3\" class=\"data row0 col3\" >16-Jan-2023</td>\n",
       "    </tr>\n",
       "    <tr>\n",
       "      <th id=\"T_75841_level0_row1\" class=\"row_heading level0 row1\" >Chetan</th>\n",
       "      <td id=\"T_75841_row1_col0\" class=\"data row1 col0\" >17-Jan-2023</td>\n",
       "      <td id=\"T_75841_row1_col1\" class=\"data row1 col1\" >18-Jan-2023</td>\n",
       "      <td id=\"T_75841_row1_col2\" class=\"data row1 col2\" >19-Jan-2023</td>\n",
       "      <td id=\"T_75841_row1_col3\" class=\"data row1 col3\" >nan</td>\n",
       "    </tr>\n",
       "    <tr>\n",
       "      <th id=\"T_75841_level0_row2\" class=\"row_heading level0 row2\" >Girish</th>\n",
       "      <td id=\"T_75841_row2_col0\" class=\"data row2 col0\" >17-Jan-2023</td>\n",
       "      <td id=\"T_75841_row2_col1\" class=\"data row2 col1\" >nan</td>\n",
       "      <td id=\"T_75841_row2_col2\" class=\"data row2 col2\" >15-Jan-2023</td>\n",
       "      <td id=\"T_75841_row2_col3\" class=\"data row2 col3\" >nan</td>\n",
       "    </tr>\n",
       "    <tr>\n",
       "      <th id=\"T_75841_level0_row3\" class=\"row_heading level0 row3\" >Mohan</th>\n",
       "      <td id=\"T_75841_row3_col0\" class=\"data row3 col0\" >19-Jan-2023</td>\n",
       "      <td id=\"T_75841_row3_col1\" class=\"data row3 col1\" >nan</td>\n",
       "      <td id=\"T_75841_row3_col2\" class=\"data row3 col2\" >nan</td>\n",
       "      <td id=\"T_75841_row3_col3\" class=\"data row3 col3\" >nan</td>\n",
       "    </tr>\n",
       "    <tr>\n",
       "      <th id=\"T_75841_level0_row4\" class=\"row_heading level0 row4\" >Vishal</th>\n",
       "      <td id=\"T_75841_row4_col0\" class=\"data row4 col0\" >14-Jan-2023</td>\n",
       "      <td id=\"T_75841_row4_col1\" class=\"data row4 col1\" >15-Jan-2023</td>\n",
       "      <td id=\"T_75841_row4_col2\" class=\"data row4 col2\" >17-Jan-2023</td>\n",
       "      <td id=\"T_75841_row4_col3\" class=\"data row4 col3\" >18-Jan-2023</td>\n",
       "    </tr>\n",
       "  </tbody>\n",
       "</table>\n"
      ],
      "text/plain": [
       "<pandas.io.formats.style.Styler at 0x14ca8b670>"
      ]
     },
     "execution_count": 57,
     "metadata": {},
     "output_type": "execute_result"
    }
   ],
   "source": []
  },
  {
   "cell_type": "markdown",
   "id": "8844b3a6",
   "metadata": {},
   "source": [
    "Now, to filter the rows that contain these dates, we use the values present in the Boolean DataFrame\n",
    "\n",
    "Let's sum up all the boolean values along each row using `sum(axis=1)`\n",
    "\n",
    "**Note:** Using `sum()` by default sums the boolean values along each column"
   ]
  },
  {
   "cell_type": "code",
   "execution_count": 31,
   "id": "f83a145f",
   "metadata": {},
   "outputs": [
    {
     "data": {
      "text/plain": [
       "Ex01_Date    1\n",
       "Ex02_Date    1\n",
       "Ex03_Date    2\n",
       "Ex04_Date    1\n",
       "dtype: int64"
      ]
     },
     "execution_count": 31,
     "metadata": {},
     "output_type": "execute_result"
    }
   ],
   "source": [
    "df.isin(imp_dates).sum()"
   ]
  },
  {
   "cell_type": "markdown",
   "id": "c424dc7b",
   "metadata": {},
   "source": [
    "Summing the values along each row"
   ]
  },
  {
   "cell_type": "code",
   "execution_count": 32,
   "id": "3c4e5be8",
   "metadata": {},
   "outputs": [
    {
     "data": {
      "text/plain": [
       "Ajay      1\n",
       "Chetan    2\n",
       "Girish    0\n",
       "Mohan     1\n",
       "Vishal    1\n",
       "dtype: int64"
      ]
     },
     "execution_count": 32,
     "metadata": {},
     "output_type": "execute_result"
    }
   ],
   "source": [
    "df.isin(imp_dates).sum(axis=1)"
   ]
  },
  {
   "cell_type": "markdown",
   "id": "9c9174f9",
   "metadata": {},
   "source": [
    "We are interested in only those rows that contain atleast one match. So, the sum value for such rows would be > 0\n",
    "\n",
    "Let's create a mask of the boolean Series for the above comparison "
   ]
  },
  {
   "cell_type": "code",
   "execution_count": 33,
   "id": "9ca07ae9",
   "metadata": {},
   "outputs": [
    {
     "data": {
      "text/plain": [
       "Ajay       True\n",
       "Chetan     True\n",
       "Girish    False\n",
       "Mohan      True\n",
       "Vishal     True\n",
       "dtype: bool"
      ]
     },
     "execution_count": 33,
     "metadata": {},
     "output_type": "execute_result"
    }
   ],
   "source": [
    "mask_1819 = df.isin(imp_dates).sum(axis=1) > 0\n",
    "mask_1819"
   ]
  },
  {
   "cell_type": "markdown",
   "id": "86126dae",
   "metadata": {},
   "source": [
    "Now, let's use the mask to filter the values in the DataFrame"
   ]
  },
  {
   "cell_type": "code",
   "execution_count": 34,
   "id": "efce2575",
   "metadata": {},
   "outputs": [
    {
     "data": {
      "text/html": [
       "<div>\n",
       "<style scoped>\n",
       "    .dataframe tbody tr th:only-of-type {\n",
       "        vertical-align: middle;\n",
       "    }\n",
       "\n",
       "    .dataframe tbody tr th {\n",
       "        vertical-align: top;\n",
       "    }\n",
       "\n",
       "    .dataframe thead th {\n",
       "        text-align: right;\n",
       "    }\n",
       "</style>\n",
       "<table border=\"1\" class=\"dataframe\">\n",
       "  <thead>\n",
       "    <tr style=\"text-align: right;\">\n",
       "      <th></th>\n",
       "      <th>Ex01_Date</th>\n",
       "      <th>Ex02_Date</th>\n",
       "      <th>Ex03_Date</th>\n",
       "      <th>Ex04_Date</th>\n",
       "    </tr>\n",
       "  </thead>\n",
       "  <tbody>\n",
       "    <tr>\n",
       "      <th>Ajay</th>\n",
       "      <td>12-Jan-2023</td>\n",
       "      <td>14-Jan-2023</td>\n",
       "      <td>18-Jan-2023</td>\n",
       "      <td>16-Jan-2023</td>\n",
       "    </tr>\n",
       "    <tr>\n",
       "      <th>Chetan</th>\n",
       "      <td>17-Jan-2023</td>\n",
       "      <td>18-Jan-2023</td>\n",
       "      <td>19-Jan-2023</td>\n",
       "      <td>NaN</td>\n",
       "    </tr>\n",
       "    <tr>\n",
       "      <th>Mohan</th>\n",
       "      <td>19-Jan-2023</td>\n",
       "      <td>NaN</td>\n",
       "      <td>NaN</td>\n",
       "      <td>NaN</td>\n",
       "    </tr>\n",
       "    <tr>\n",
       "      <th>Vishal</th>\n",
       "      <td>14-Jan-2023</td>\n",
       "      <td>15-Jan-2023</td>\n",
       "      <td>17-Jan-2023</td>\n",
       "      <td>18-Jan-2023</td>\n",
       "    </tr>\n",
       "  </tbody>\n",
       "</table>\n",
       "</div>"
      ],
      "text/plain": [
       "          Ex01_Date    Ex02_Date    Ex03_Date    Ex04_Date\n",
       "Ajay    12-Jan-2023  14-Jan-2023  18-Jan-2023  16-Jan-2023\n",
       "Chetan  17-Jan-2023  18-Jan-2023  19-Jan-2023          NaN\n",
       "Mohan   19-Jan-2023          NaN          NaN          NaN\n",
       "Vishal  14-Jan-2023  15-Jan-2023  17-Jan-2023  18-Jan-2023"
      ]
     },
     "execution_count": 34,
     "metadata": {},
     "output_type": "execute_result"
    }
   ],
   "source": [
    "df[mask_1819]"
   ]
  },
  {
   "cell_type": "markdown",
   "id": "3c1879d6",
   "metadata": {},
   "source": [
    "Compare the result with the highlighted values from the original DataFrame shown below"
   ]
  },
  {
   "cell_type": "code",
   "execution_count": 57,
   "id": "45b27fc2",
   "metadata": {},
   "outputs": [
    {
     "data": {
      "text/html": [
       "<style type=\"text/css\">\n",
       "#T_75841_row0_col2, #T_75841_row1_col1, #T_75841_row1_col2, #T_75841_row3_col0, #T_75841_row4_col3 {\n",
       "  background-color: bisque;\n",
       "}\n",
       "</style>\n",
       "<table id=\"T_75841_\">\n",
       "  <thead>\n",
       "    <tr>\n",
       "      <th class=\"blank level0\" >&nbsp;</th>\n",
       "      <th class=\"col_heading level0 col0\" >Ex01_Date</th>\n",
       "      <th class=\"col_heading level0 col1\" >Ex02_Date</th>\n",
       "      <th class=\"col_heading level0 col2\" >Ex03_Date</th>\n",
       "      <th class=\"col_heading level0 col3\" >Ex04_Date</th>\n",
       "    </tr>\n",
       "  </thead>\n",
       "  <tbody>\n",
       "    <tr>\n",
       "      <th id=\"T_75841_level0_row0\" class=\"row_heading level0 row0\" >Ajay</th>\n",
       "      <td id=\"T_75841_row0_col0\" class=\"data row0 col0\" >12-Jan-2023</td>\n",
       "      <td id=\"T_75841_row0_col1\" class=\"data row0 col1\" >14-Jan-2023</td>\n",
       "      <td id=\"T_75841_row0_col2\" class=\"data row0 col2\" >18-Jan-2023</td>\n",
       "      <td id=\"T_75841_row0_col3\" class=\"data row0 col3\" >16-Jan-2023</td>\n",
       "    </tr>\n",
       "    <tr>\n",
       "      <th id=\"T_75841_level0_row1\" class=\"row_heading level0 row1\" >Chetan</th>\n",
       "      <td id=\"T_75841_row1_col0\" class=\"data row1 col0\" >17-Jan-2023</td>\n",
       "      <td id=\"T_75841_row1_col1\" class=\"data row1 col1\" >18-Jan-2023</td>\n",
       "      <td id=\"T_75841_row1_col2\" class=\"data row1 col2\" >19-Jan-2023</td>\n",
       "      <td id=\"T_75841_row1_col3\" class=\"data row1 col3\" >nan</td>\n",
       "    </tr>\n",
       "    <tr>\n",
       "      <th id=\"T_75841_level0_row2\" class=\"row_heading level0 row2\" >Girish</th>\n",
       "      <td id=\"T_75841_row2_col0\" class=\"data row2 col0\" >17-Jan-2023</td>\n",
       "      <td id=\"T_75841_row2_col1\" class=\"data row2 col1\" >nan</td>\n",
       "      <td id=\"T_75841_row2_col2\" class=\"data row2 col2\" >15-Jan-2023</td>\n",
       "      <td id=\"T_75841_row2_col3\" class=\"data row2 col3\" >nan</td>\n",
       "    </tr>\n",
       "    <tr>\n",
       "      <th id=\"T_75841_level0_row3\" class=\"row_heading level0 row3\" >Mohan</th>\n",
       "      <td id=\"T_75841_row3_col0\" class=\"data row3 col0\" >19-Jan-2023</td>\n",
       "      <td id=\"T_75841_row3_col1\" class=\"data row3 col1\" >nan</td>\n",
       "      <td id=\"T_75841_row3_col2\" class=\"data row3 col2\" >nan</td>\n",
       "      <td id=\"T_75841_row3_col3\" class=\"data row3 col3\" >nan</td>\n",
       "    </tr>\n",
       "    <tr>\n",
       "      <th id=\"T_75841_level0_row4\" class=\"row_heading level0 row4\" >Vishal</th>\n",
       "      <td id=\"T_75841_row4_col0\" class=\"data row4 col0\" >14-Jan-2023</td>\n",
       "      <td id=\"T_75841_row4_col1\" class=\"data row4 col1\" >15-Jan-2023</td>\n",
       "      <td id=\"T_75841_row4_col2\" class=\"data row4 col2\" >17-Jan-2023</td>\n",
       "      <td id=\"T_75841_row4_col3\" class=\"data row4 col3\" >18-Jan-2023</td>\n",
       "    </tr>\n",
       "  </tbody>\n",
       "</table>\n"
      ],
      "text/plain": [
       "<pandas.io.formats.style.Styler at 0x14ca8b670>"
      ]
     },
     "execution_count": 57,
     "metadata": {},
     "output_type": "execute_result"
    }
   ],
   "source": []
  },
  {
   "cell_type": "code",
   "execution_count": 41,
   "id": "6782a39d",
   "metadata": {},
   "outputs": [
    {
     "data": {
      "text/plain": [
       "Ajay      0\n",
       "Chetan    1\n",
       "Girish    2\n",
       "Mohan     3\n",
       "Vishal    0\n",
       "dtype: int64"
      ]
     },
     "execution_count": 41,
     "metadata": {},
     "output_type": "execute_result"
    }
   ],
   "source": [
    "df.isna().sum(axis=1)"
   ]
  },
  {
   "cell_type": "code",
   "execution_count": 42,
   "id": "84a72d5b",
   "metadata": {},
   "outputs": [
    {
     "data": {
      "text/plain": [
       "Ajay      False\n",
       "Chetan     True\n",
       "Girish     True\n",
       "Mohan      True\n",
       "Vishal    False\n",
       "dtype: bool"
      ]
     },
     "execution_count": 42,
     "metadata": {},
     "output_type": "execute_result"
    }
   ],
   "source": [
    "df.isna().sum(axis=1) > 0"
   ]
  },
  {
   "cell_type": "code",
   "execution_count": 44,
   "id": "7d0e86de",
   "metadata": {},
   "outputs": [
    {
     "data": {
      "text/html": [
       "<div>\n",
       "<style scoped>\n",
       "    .dataframe tbody tr th:only-of-type {\n",
       "        vertical-align: middle;\n",
       "    }\n",
       "\n",
       "    .dataframe tbody tr th {\n",
       "        vertical-align: top;\n",
       "    }\n",
       "\n",
       "    .dataframe thead th {\n",
       "        text-align: right;\n",
       "    }\n",
       "</style>\n",
       "<table border=\"1\" class=\"dataframe\">\n",
       "  <thead>\n",
       "    <tr style=\"text-align: right;\">\n",
       "      <th></th>\n",
       "      <th>Ex01_Date</th>\n",
       "      <th>Ex02_Date</th>\n",
       "      <th>Ex03_Date</th>\n",
       "      <th>Ex04_Date</th>\n",
       "    </tr>\n",
       "  </thead>\n",
       "  <tbody>\n",
       "    <tr>\n",
       "      <th>Chetan</th>\n",
       "      <td>17-Jan-2023</td>\n",
       "      <td>18-Jan-2023</td>\n",
       "      <td>19-Jan-2023</td>\n",
       "      <td>NaN</td>\n",
       "    </tr>\n",
       "    <tr>\n",
       "      <th>Girish</th>\n",
       "      <td>17-Jan-2023</td>\n",
       "      <td>NaN</td>\n",
       "      <td>15-Jan-2023</td>\n",
       "      <td>NaN</td>\n",
       "    </tr>\n",
       "    <tr>\n",
       "      <th>Mohan</th>\n",
       "      <td>19-Jan-2023</td>\n",
       "      <td>NaN</td>\n",
       "      <td>NaN</td>\n",
       "      <td>NaN</td>\n",
       "    </tr>\n",
       "  </tbody>\n",
       "</table>\n",
       "</div>"
      ],
      "text/plain": [
       "          Ex01_Date    Ex02_Date    Ex03_Date Ex04_Date\n",
       "Chetan  17-Jan-2023  18-Jan-2023  19-Jan-2023       NaN\n",
       "Girish  17-Jan-2023          NaN  15-Jan-2023       NaN\n",
       "Mohan   19-Jan-2023          NaN          NaN       NaN"
      ]
     },
     "execution_count": 44,
     "metadata": {},
     "output_type": "execute_result"
    }
   ],
   "source": [
    "df_pending = df[df.isna().sum(axis=1) > 0]\n",
    "df_pending"
   ]
  },
  {
   "cell_type": "code",
   "execution_count": 45,
   "id": "37c1dc15",
   "metadata": {},
   "outputs": [
    {
     "data": {
      "text/html": [
       "<style type=\"text/css\">\n",
       "#T_1d982_row0_col3, #T_1d982_row1_col1, #T_1d982_row1_col3, #T_1d982_row2_col1, #T_1d982_row2_col2, #T_1d982_row2_col3 {\n",
       "  background-color: bisque;\n",
       "}\n",
       "</style>\n",
       "<table id=\"T_1d982_\">\n",
       "  <thead>\n",
       "    <tr>\n",
       "      <th class=\"blank level0\" >&nbsp;</th>\n",
       "      <th class=\"col_heading level0 col0\" >Ex01_Date</th>\n",
       "      <th class=\"col_heading level0 col1\" >Ex02_Date</th>\n",
       "      <th class=\"col_heading level0 col2\" >Ex03_Date</th>\n",
       "      <th class=\"col_heading level0 col3\" >Ex04_Date</th>\n",
       "    </tr>\n",
       "  </thead>\n",
       "  <tbody>\n",
       "    <tr>\n",
       "      <th id=\"T_1d982_level0_row0\" class=\"row_heading level0 row0\" >Chetan</th>\n",
       "      <td id=\"T_1d982_row0_col0\" class=\"data row0 col0\" >17-Jan-2023</td>\n",
       "      <td id=\"T_1d982_row0_col1\" class=\"data row0 col1\" >18-Jan-2023</td>\n",
       "      <td id=\"T_1d982_row0_col2\" class=\"data row0 col2\" >19-Jan-2023</td>\n",
       "      <td id=\"T_1d982_row0_col3\" class=\"data row0 col3\" >nan</td>\n",
       "    </tr>\n",
       "    <tr>\n",
       "      <th id=\"T_1d982_level0_row1\" class=\"row_heading level0 row1\" >Girish</th>\n",
       "      <td id=\"T_1d982_row1_col0\" class=\"data row1 col0\" >17-Jan-2023</td>\n",
       "      <td id=\"T_1d982_row1_col1\" class=\"data row1 col1\" >nan</td>\n",
       "      <td id=\"T_1d982_row1_col2\" class=\"data row1 col2\" >15-Jan-2023</td>\n",
       "      <td id=\"T_1d982_row1_col3\" class=\"data row1 col3\" >nan</td>\n",
       "    </tr>\n",
       "    <tr>\n",
       "      <th id=\"T_1d982_level0_row2\" class=\"row_heading level0 row2\" >Mohan</th>\n",
       "      <td id=\"T_1d982_row2_col0\" class=\"data row2 col0\" >19-Jan-2023</td>\n",
       "      <td id=\"T_1d982_row2_col1\" class=\"data row2 col1\" >nan</td>\n",
       "      <td id=\"T_1d982_row2_col2\" class=\"data row2 col2\" >nan</td>\n",
       "      <td id=\"T_1d982_row2_col3\" class=\"data row2 col3\" >nan</td>\n",
       "    </tr>\n",
       "  </tbody>\n",
       "</table>\n"
      ],
      "text/plain": [
       "<pandas.io.formats.style.Styler at 0x14cdb0d00>"
      ]
     },
     "execution_count": 45,
     "metadata": {},
     "output_type": "execute_result"
    }
   ],
   "source": [
    "df_pending.style.highlight_null('bisque')"
   ]
  },
  {
   "cell_type": "code",
   "execution_count": 48,
   "id": "0ccc430f",
   "metadata": {},
   "outputs": [
    {
     "data": {
      "text/plain": [
       "3"
      ]
     },
     "execution_count": 48,
     "metadata": {},
     "output_type": "execute_result"
    }
   ],
   "source": [
    "n_rows, n_cols = df_pending.shape\n",
    "n_rows"
   ]
  },
  {
   "cell_type": "code",
   "execution_count": 50,
   "id": "a97f209c",
   "metadata": {},
   "outputs": [
    {
     "data": {
      "text/plain": [
       "Index(['Chetan', 'Girish', 'Mohan'], dtype='object')"
      ]
     },
     "execution_count": 50,
     "metadata": {},
     "output_type": "execute_result"
    }
   ],
   "source": [
    "df_pending.index"
   ]
  },
  {
   "cell_type": "code",
   "execution_count": 52,
   "id": "9c549371",
   "metadata": {},
   "outputs": [
    {
     "data": {
      "text/html": [
       "<style type=\"text/css\">\n",
       "#T_e8e67_ th.row0 {\n",
       "  background-color: bisque;\n",
       "}\n",
       "#T_e8e67_ th.row1 {\n",
       "  background-color: bisque;\n",
       "}\n",
       "#T_e8e67_ th.row2 {\n",
       "  background-color: bisque;\n",
       "}\n",
       "</style>\n",
       "<table id=\"T_e8e67_\">\n",
       "  <thead>\n",
       "    <tr>\n",
       "      <th class=\"blank level0\" >&nbsp;</th>\n",
       "      <th class=\"col_heading level0 col0\" >Ex01_Date</th>\n",
       "      <th class=\"col_heading level0 col1\" >Ex02_Date</th>\n",
       "      <th class=\"col_heading level0 col2\" >Ex03_Date</th>\n",
       "      <th class=\"col_heading level0 col3\" >Ex04_Date</th>\n",
       "    </tr>\n",
       "  </thead>\n",
       "  <tbody>\n",
       "    <tr>\n",
       "      <th id=\"T_e8e67_level0_row0\" class=\"row_heading level0 row0\" >Chetan</th>\n",
       "      <td id=\"T_e8e67_row0_col0\" class=\"data row0 col0\" >17-Jan-2023</td>\n",
       "      <td id=\"T_e8e67_row0_col1\" class=\"data row0 col1\" >18-Jan-2023</td>\n",
       "      <td id=\"T_e8e67_row0_col2\" class=\"data row0 col2\" >19-Jan-2023</td>\n",
       "      <td id=\"T_e8e67_row0_col3\" class=\"data row0 col3\" >nan</td>\n",
       "    </tr>\n",
       "    <tr>\n",
       "      <th id=\"T_e8e67_level0_row1\" class=\"row_heading level0 row1\" >Girish</th>\n",
       "      <td id=\"T_e8e67_row1_col0\" class=\"data row1 col0\" >17-Jan-2023</td>\n",
       "      <td id=\"T_e8e67_row1_col1\" class=\"data row1 col1\" >nan</td>\n",
       "      <td id=\"T_e8e67_row1_col2\" class=\"data row1 col2\" >15-Jan-2023</td>\n",
       "      <td id=\"T_e8e67_row1_col3\" class=\"data row1 col3\" >nan</td>\n",
       "    </tr>\n",
       "    <tr>\n",
       "      <th id=\"T_e8e67_level0_row2\" class=\"row_heading level0 row2\" >Mohan</th>\n",
       "      <td id=\"T_e8e67_row2_col0\" class=\"data row2 col0\" >19-Jan-2023</td>\n",
       "      <td id=\"T_e8e67_row2_col1\" class=\"data row2 col1\" >nan</td>\n",
       "      <td id=\"T_e8e67_row2_col2\" class=\"data row2 col2\" >nan</td>\n",
       "      <td id=\"T_e8e67_row2_col3\" class=\"data row2 col3\" >nan</td>\n",
       "    </tr>\n",
       "  </tbody>\n",
       "</table>\n"
      ],
      "text/plain": [
       "<pandas.io.formats.style.Styler at 0x14ca9dc70>"
      ]
     },
     "execution_count": 52,
     "metadata": {},
     "output_type": "execute_result"
    }
   ],
   "source": [
    "bg_color = [{'selector': 'th', 'props': 'background-color: bisque'}]\n",
    "label_colors = [bg_color] * n_rows\n",
    "df_pending.style.set_table_styles(dict(zip(df_pending.index, label_colors)), axis=1)\n"
   ]
  },
  {
   "cell_type": "code",
   "execution_count": 53,
   "id": "3233d425",
   "metadata": {},
   "outputs": [
    {
     "data": {
      "text/html": [
       "<style type=\"text/css\">\n",
       "#T_99bcf_ th.row1 {\n",
       "  background-color: bisque;\n",
       "}\n",
       "#T_99bcf_ th.row2 {\n",
       "  background-color: bisque;\n",
       "}\n",
       "#T_99bcf_ th.row3 {\n",
       "  background-color: bisque;\n",
       "}\n",
       "</style>\n",
       "<table id=\"T_99bcf_\">\n",
       "  <thead>\n",
       "    <tr>\n",
       "      <th class=\"blank level0\" >&nbsp;</th>\n",
       "      <th class=\"col_heading level0 col0\" >Ex01_Date</th>\n",
       "      <th class=\"col_heading level0 col1\" >Ex02_Date</th>\n",
       "      <th class=\"col_heading level0 col2\" >Ex03_Date</th>\n",
       "      <th class=\"col_heading level0 col3\" >Ex04_Date</th>\n",
       "    </tr>\n",
       "  </thead>\n",
       "  <tbody>\n",
       "    <tr>\n",
       "      <th id=\"T_99bcf_level0_row0\" class=\"row_heading level0 row0\" >Ajay</th>\n",
       "      <td id=\"T_99bcf_row0_col0\" class=\"data row0 col0\" >12-Jan-2023</td>\n",
       "      <td id=\"T_99bcf_row0_col1\" class=\"data row0 col1\" >14-Jan-2023</td>\n",
       "      <td id=\"T_99bcf_row0_col2\" class=\"data row0 col2\" >18-Jan-2023</td>\n",
       "      <td id=\"T_99bcf_row0_col3\" class=\"data row0 col3\" >16-Jan-2023</td>\n",
       "    </tr>\n",
       "    <tr>\n",
       "      <th id=\"T_99bcf_level0_row1\" class=\"row_heading level0 row1\" >Chetan</th>\n",
       "      <td id=\"T_99bcf_row1_col0\" class=\"data row1 col0\" >17-Jan-2023</td>\n",
       "      <td id=\"T_99bcf_row1_col1\" class=\"data row1 col1\" >18-Jan-2023</td>\n",
       "      <td id=\"T_99bcf_row1_col2\" class=\"data row1 col2\" >19-Jan-2023</td>\n",
       "      <td id=\"T_99bcf_row1_col3\" class=\"data row1 col3\" >nan</td>\n",
       "    </tr>\n",
       "    <tr>\n",
       "      <th id=\"T_99bcf_level0_row2\" class=\"row_heading level0 row2\" >Girish</th>\n",
       "      <td id=\"T_99bcf_row2_col0\" class=\"data row2 col0\" >17-Jan-2023</td>\n",
       "      <td id=\"T_99bcf_row2_col1\" class=\"data row2 col1\" >nan</td>\n",
       "      <td id=\"T_99bcf_row2_col2\" class=\"data row2 col2\" >15-Jan-2023</td>\n",
       "      <td id=\"T_99bcf_row2_col3\" class=\"data row2 col3\" >nan</td>\n",
       "    </tr>\n",
       "    <tr>\n",
       "      <th id=\"T_99bcf_level0_row3\" class=\"row_heading level0 row3\" >Mohan</th>\n",
       "      <td id=\"T_99bcf_row3_col0\" class=\"data row3 col0\" >19-Jan-2023</td>\n",
       "      <td id=\"T_99bcf_row3_col1\" class=\"data row3 col1\" >nan</td>\n",
       "      <td id=\"T_99bcf_row3_col2\" class=\"data row3 col2\" >nan</td>\n",
       "      <td id=\"T_99bcf_row3_col3\" class=\"data row3 col3\" >nan</td>\n",
       "    </tr>\n",
       "    <tr>\n",
       "      <th id=\"T_99bcf_level0_row4\" class=\"row_heading level0 row4\" >Vishal</th>\n",
       "      <td id=\"T_99bcf_row4_col0\" class=\"data row4 col0\" >14-Jan-2023</td>\n",
       "      <td id=\"T_99bcf_row4_col1\" class=\"data row4 col1\" >15-Jan-2023</td>\n",
       "      <td id=\"T_99bcf_row4_col2\" class=\"data row4 col2\" >17-Jan-2023</td>\n",
       "      <td id=\"T_99bcf_row4_col3\" class=\"data row4 col3\" >18-Jan-2023</td>\n",
       "    </tr>\n",
       "  </tbody>\n",
       "</table>\n"
      ],
      "text/plain": [
       "<pandas.io.formats.style.Styler at 0x14d803c10>"
      ]
     },
     "execution_count": 53,
     "metadata": {},
     "output_type": "execute_result"
    }
   ],
   "source": [
    "df.style.set_table_styles(dict(zip(df_pending.index, label_colors)), axis=1)\n"
   ]
  },
  {
   "cell_type": "markdown",
   "id": "24a8c8b3",
   "metadata": {},
   "source": [
    "- dummy"
   ]
  },
  {
   "cell_type": "code",
   "execution_count": 39,
   "id": "96650a1e",
   "metadata": {},
   "outputs": [
    {
     "data": {
      "text/html": [
       "<style type=\"text/css\">\n",
       "#T_46235_row0_col2, #T_46235_row1_col1, #T_46235_row1_col2, #T_46235_row3_col0, #T_46235_row4_col3 {\n",
       "  background-color: bisque;\n",
       "}\n",
       "</style>\n",
       "<table id=\"T_46235_\">\n",
       "  <thead>\n",
       "    <tr>\n",
       "      <th class=\"blank level0\" >&nbsp;</th>\n",
       "      <th class=\"col_heading level0 col0\" >Ex01_Date</th>\n",
       "      <th class=\"col_heading level0 col1\" >Ex02_Date</th>\n",
       "      <th class=\"col_heading level0 col2\" >Ex03_Date</th>\n",
       "      <th class=\"col_heading level0 col3\" >Ex04_Date</th>\n",
       "    </tr>\n",
       "  </thead>\n",
       "  <tbody>\n",
       "    <tr>\n",
       "      <th id=\"T_46235_level0_row0\" class=\"row_heading level0 row0\" >Ajay</th>\n",
       "      <td id=\"T_46235_row0_col0\" class=\"data row0 col0\" >12-Jan-2023</td>\n",
       "      <td id=\"T_46235_row0_col1\" class=\"data row0 col1\" >14-Jan-2023</td>\n",
       "      <td id=\"T_46235_row0_col2\" class=\"data row0 col2\" >18-Jan-2023</td>\n",
       "      <td id=\"T_46235_row0_col3\" class=\"data row0 col3\" >16-Jan-2023</td>\n",
       "    </tr>\n",
       "    <tr>\n",
       "      <th id=\"T_46235_level0_row1\" class=\"row_heading level0 row1\" >Chetan</th>\n",
       "      <td id=\"T_46235_row1_col0\" class=\"data row1 col0\" >17-Jan-2023</td>\n",
       "      <td id=\"T_46235_row1_col1\" class=\"data row1 col1\" >18-Jan-2023</td>\n",
       "      <td id=\"T_46235_row1_col2\" class=\"data row1 col2\" >19-Jan-2023</td>\n",
       "      <td id=\"T_46235_row1_col3\" class=\"data row1 col3\" >nan</td>\n",
       "    </tr>\n",
       "    <tr>\n",
       "      <th id=\"T_46235_level0_row2\" class=\"row_heading level0 row2\" >Girish</th>\n",
       "      <td id=\"T_46235_row2_col0\" class=\"data row2 col0\" >17-Jan-2023</td>\n",
       "      <td id=\"T_46235_row2_col1\" class=\"data row2 col1\" >nan</td>\n",
       "      <td id=\"T_46235_row2_col2\" class=\"data row2 col2\" >15-Jan-2023</td>\n",
       "      <td id=\"T_46235_row2_col3\" class=\"data row2 col3\" >nan</td>\n",
       "    </tr>\n",
       "    <tr>\n",
       "      <th id=\"T_46235_level0_row3\" class=\"row_heading level0 row3\" >Mohan</th>\n",
       "      <td id=\"T_46235_row3_col0\" class=\"data row3 col0\" >19-Jan-2023</td>\n",
       "      <td id=\"T_46235_row3_col1\" class=\"data row3 col1\" >nan</td>\n",
       "      <td id=\"T_46235_row3_col2\" class=\"data row3 col2\" >nan</td>\n",
       "      <td id=\"T_46235_row3_col3\" class=\"data row3 col3\" >nan</td>\n",
       "    </tr>\n",
       "    <tr>\n",
       "      <th id=\"T_46235_level0_row4\" class=\"row_heading level0 row4\" >Vishal</th>\n",
       "      <td id=\"T_46235_row4_col0\" class=\"data row4 col0\" >14-Jan-2023</td>\n",
       "      <td id=\"T_46235_row4_col1\" class=\"data row4 col1\" >15-Jan-2023</td>\n",
       "      <td id=\"T_46235_row4_col2\" class=\"data row4 col2\" >17-Jan-2023</td>\n",
       "      <td id=\"T_46235_row4_col3\" class=\"data row4 col3\" >18-Jan-2023</td>\n",
       "    </tr>\n",
       "  </tbody>\n",
       "</table>\n"
      ],
      "text/plain": [
       "<pandas.io.formats.style.Styler at 0x14cd50730>"
      ]
     },
     "execution_count": 39,
     "metadata": {},
     "output_type": "execute_result"
    }
   ],
   "source": [
    "(df\n",
    ".style\n",
    ".applymap(lambda x: 'background-color:bisque' \n",
    "              if x in imp_dates else None)\n",
    ")"
   ]
  }
 ],
 "metadata": {
  "kernelspec": {
   "display_name": "Python 3 (ipykernel)",
   "language": "python",
   "name": "python3"
  },
  "language_info": {
   "codemirror_mode": {
    "name": "ipython",
    "version": 3
   },
   "file_extension": ".py",
   "mimetype": "text/x-python",
   "name": "python",
   "nbconvert_exporter": "python",
   "pygments_lexer": "ipython3",
   "version": "3.9.8"
  }
 },
 "nbformat": 4,
 "nbformat_minor": 5
}
